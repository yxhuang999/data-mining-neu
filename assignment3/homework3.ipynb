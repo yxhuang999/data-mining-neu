{
  "cells": [
    {
      "cell_type": "markdown",
      "metadata": {
        "id": "kPt5q27L5557"
      },
      "source": [
        "# Homework 3\n",
        "\n",
        "Submit your *.ipynb through Gradescope by downloading: `File` ⇒ `Download` ⇒ `Download .ipynb`, and then submit with your PDF via link to your repository."
      ]
    },
    {
      "cell_type": "markdown",
      "metadata": {
        "id": "p0-YhEpP_Ds-"
      },
      "source": [
        "### Setup"
      ]
    },
    {
      "cell_type": "code",
      "execution_count": null,
      "metadata": {
        "id": "k-qHai2252mI"
      },
      "outputs": [],
      "source": [
        "!pip install pyspark\n",
        "!pip install -U -q PyDrive\n",
        "!apt install openjdk-8-jdk-headless -qq\n",
        "import os\n",
        "os.environ[\"JAVA_HOME\"] = \"/usr/lib/jvm/java-8-openjdk-amd64\""
      ]
    },
    {
      "cell_type": "code",
      "source": [
        "#@title Import PySpark and create SparkContext\n",
        "\n",
        "import itertools\n",
        "import pyspark\n",
        "from pyspark.sql import *\n",
        "from pyspark.sql.functions import *\n",
        "from pyspark import SparkContext, SparkConf\n",
        "import os\n",
        "os.environ[\"JAVA_HOME\"] = \"/usr/lib/jvm/java-8-openjdk-amd64\"\n",
        "\n",
        "# create the session\n",
        "conf = SparkConf().set(\"spark.ui.port\", \"4050\")\n",
        "\n",
        "# create the context\n",
        "sc = pyspark.SparkContext(conf=conf)\n",
        "spark = SparkSession.builder.getOrCreate()"
      ],
      "metadata": {
        "id": "KBAOtmroKCqG"
      },
      "execution_count": 2,
      "outputs": []
    },
    {
      "cell_type": "code",
      "source": [
        "#@title Download the data from the course website\n",
        "!wget https://course.ccs.neu.edu/cs6220/fall2023/homework-3/soc-LiveJournal1Adj.txt"
      ],
      "metadata": {
        "colab": {
          "base_uri": "https://localhost:8080/"
        },
        "id": "18LWrPEMKCIW",
        "outputId": "27a82428-535b-43d0-de3b-a82e8bc7612e"
      },
      "execution_count": 3,
      "outputs": [
        {
          "output_type": "stream",
          "name": "stdout",
          "text": [
            "--2024-02-07 07:25:16--  https://course.ccs.neu.edu/cs6220/fall2023/homework-3/soc-LiveJournal1Adj.txt\n",
            "Resolving course.ccs.neu.edu (course.ccs.neu.edu)... 129.10.117.35\n",
            "Connecting to course.ccs.neu.edu (course.ccs.neu.edu)|129.10.117.35|:443... connected.\n",
            "HTTP request sent, awaiting response... 200 OK\n",
            "Length: 4156181 (4.0M) [text/plain]\n",
            "Saving to: ‘soc-LiveJournal1Adj.txt’\n",
            "\n",
            "soc-LiveJournal1Adj 100%[===================>]   3.96M  2.73MB/s    in 1.5s    \n",
            "\n",
            "2024-02-07 07:25:18 (2.73 MB/s) - ‘soc-LiveJournal1Adj.txt’ saved [4156181/4156181]\n",
            "\n"
          ]
        }
      ]
    },
    {
      "cell_type": "markdown",
      "source": [
        "### Load the data in!"
      ],
      "metadata": {
        "id": "3TA8JoRuJEmS"
      }
    },
    {
      "cell_type": "code",
      "source": [
        "# Read the data in\n",
        "lines = sc.textFile(\"soc-LiveJournal1Adj.txt\", 1)\n",
        "lines = lines.map(lambda line: line.split())"
      ],
      "metadata": {
        "id": "cdLH8ltnJEHA"
      },
      "execution_count": 4,
      "outputs": []
    },
    {
      "cell_type": "code",
      "source": [
        "lines.take(2)"
      ],
      "metadata": {
        "colab": {
          "base_uri": "https://localhost:8080/"
        },
        "id": "huCITf4Dovf5",
        "outputId": "08614b37-ed7b-4bce-fb3c-f9463dcca26a"
      },
      "execution_count": 5,
      "outputs": [
        {
          "output_type": "execute_result",
          "data": {
            "text/plain": [
              "[['0',\n",
              "  '1,2,3,4,5,6,7,8,9,10,11,12,13,14,15,16,17,18,19,20,21,22,23,24,25,26,27,28,29,30,31,32,33,34,35,36,37,38,39,40,41,42,43,44,45,46,47,48,49,50,51,52,53,54,55,56,57,58,59,60,61,62,63,64,65,66,67,68,69,70,71,72,73,74,75,76,77,78,79,80,81,82,83,84,85,86,87,88,89,90,91,92,93,94'],\n",
              " ['1',\n",
              "  '0,5,20,135,2409,8715,8932,10623,12347,12846,13840,13845,14005,20075,21556,22939,23520,28193,29724,29791,29826,30691,31232,31435,32317,32489,34394,35589,35605,35606,35613,35633,35648,35678,38737,43447,44846,44887,49226,49985,623,629,4999,6156,13912,14248,15190,17636,19217,20074,27536,29481,29726,29767,30257,33060,34250,34280,34392,34406,34418,34420,34439,34450,34651,45054,49592']]"
            ]
          },
          "metadata": {},
          "execution_count": 5
        }
      ]
    },
    {
      "cell_type": "markdown",
      "source": [
        "# Recommendation Algorithm"
      ],
      "metadata": {
        "id": "dX3oG5rxZMlR"
      }
    },
    {
      "cell_type": "code",
      "source": [
        "import pyspark\n",
        "from pyspark.sql import SparkSession\n",
        "from pyspark import SparkContext, SparkConf\n",
        "import os\n",
        "\n",
        "# Function to parse each line of the input file\n",
        "def parse_line(line):\n",
        "    parts = line.split('\\t')\n",
        "    user = parts[0]\n",
        "    friends = parts[1].split(',') if len(parts) > 1 else []\n",
        "    return user, friends\n",
        "\n",
        "# Step 1: Read and parse the data\n",
        "lines = sc.textFile(\"soc-LiveJournal1Adj.txt\")\n",
        "user_friends = lines.map(parse_line)\n",
        "\n",
        "# Step 2: Map phase - Generate potential friends and count mutual friends\n",
        "def generate_pairs(user_friends):\n",
        "    user, friends = user_friends\n",
        "    for friend_pair in itertools.combinations(friends, 2):\n",
        "        yield (friend_pair, 1)\n",
        "        yield ((friend_pair[1], friend_pair[0]), 1)\n",
        "\n",
        "# Filter out pairs where users are already friends\n",
        "def filter_existing_friends(user_friends):\n",
        "    user, friends = user_friends\n",
        "    for friend in friends:\n",
        "        yield ((user, friend), -1)\n",
        "\n",
        "mapped_pairs = user_friends.flatMap(generate_pairs)\n",
        "existing_friendships = user_friends.flatMap(filter_existing_friends)\n",
        "\n",
        "# Step 3: Reduce phase - Aggregate counts and filter out existing friendships\n",
        "friend_suggestions = (mapped_pairs.union(existing_friendships)\n",
        "                      .reduceByKey(lambda a, b: a + b)\n",
        "                      .filter(lambda pair_count: pair_count[1] > 0))\n",
        "\n",
        "# Step 4: Recommendations - Sort and take top N recommendations\n",
        "def sort_and_take_top_n(record):\n",
        "    user, suggestions = record\n",
        "    sorted_suggestions = sorted(suggestions, key=lambda x: (-x[1], x[0]))[:10]\n",
        "    return user, [x[0] for x in sorted_suggestions]\n",
        "\n",
        "recommendations = (friend_suggestions\n",
        "                   .map(lambda x: (x[0][0], (x[0][1], x[1])))  # Convert to (user, (suggested_friend, count))\n",
        "                   .groupByKey()\n",
        "                   .mapValues(list)\n",
        "                   .map(sort_and_take_top_n))\n",
        "\n",
        "# Step 5: Output - Save the recommendations to a file\n",
        "recommendations.map(lambda x: f\"{x[0]}\\t{','.join(x[1])}\").coalesce(1).saveAsTextFile(\"/content/output_temp\")\n",
        "\n",
        "# Navigate to the output directory\n",
        "os.chdir(\"/content/output_temp\")\n",
        "\n",
        "# Concatenate all part files into a single file\n",
        "!cat part-* > /content/output.txt\n",
        "\n",
        "# Cleanup: Remove the temporary directory to free up space\n",
        "!rm -rf /content/output_temp\n"
      ],
      "metadata": {
        "id": "NDEt04zozw6y"
      },
      "execution_count": 6,
      "outputs": []
    }
  ],
  "metadata": {
    "colab": {
      "provenance": []
    },
    "kernelspec": {
      "display_name": "Python 3",
      "name": "python3"
    }
  },
  "nbformat": 4,
  "nbformat_minor": 0
}