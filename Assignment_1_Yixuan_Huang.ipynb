{
  "cells": [
    {
      "cell_type": "code",
      "source": [
        "!wget -nc https://course.ccs.neu.edu/cs6220/fall2023/homework-1/basket_data.csv\n",
        "\n",
        "!wget -nc https://course.ccs.neu.edu/cs6220/spring2024/homeworks/01/netflix-data/movie_titles.csv\n",
        "!wget -nc https://course.ccs.neu.edu/cs6220/spring2024/homeworks/01/netflix-data/combined_data_1.txt\n",
        "!wget -nc https://course.ccs.neu.edu/cs6220/spring2024/homeworks/01/netflix-data/combined_data_2.txt\n",
        "!wget -nc https://course.ccs.neu.edu/cs6220/spring2024/homeworks/01/netflix-data/combined_data_3.txt\n",
        "!wget -nc https://course.ccs.neu.edu/cs6220/spring2024/homeworks/01/netflix-data/combined_data_4.txt\n",
        "!wget -nc https://course.ccs.neu.edu/cs6220/spring2024/homeworks/01/netflix-data/probe.txt\n",
        "!wget -nc https://course.ccs.neu.edu/cs6220/spring2024/homeworks/01/netflix-data/qualifying.txt\n",
        "\n",
        "from IPython.display import clear_output\n",
        "clear_output()\n",
        "\n",
        "file_names = [\"combined_data_1.txt\", \"combined_data_2.txt\", \"combined_data_3.txt\", \"combined_data_4.txt\"]"
      ],
      "metadata": {
        "id": "ZQ7bJkaXuOY_"
      },
      "execution_count": 3,
      "outputs": []
    },
    {
      "cell_type": "code",
      "source": [
        "# Question 1\n",
        "def cardinality_items(filename):\n",
        "    \"\"\"\n",
        "    Takes a filename \"*.csv\" and returns an integer representing\n",
        "    the cardinality of the set of all grocery items in the given dataset.\n",
        "    \"\"\"\n",
        "    items = set()\n",
        "    with open(filename, 'r') as file:\n",
        "        for line in file:\n",
        "            line_items = [item.strip() for item in line.split(',')]\n",
        "            items.update(line_items)\n",
        "\n",
        "    return len(items)\n",
        "\n",
        "cardinality = cardinality_items('basket_data.csv')\n",
        "cardinality"
      ],
      "metadata": {
        "id": "GhHX1pBstN8_",
        "outputId": "b106a4d9-e723-4b21-be58-c9a5792a164f",
        "colab": {
          "base_uri": "https://localhost:8080/"
        }
      },
      "execution_count": 4,
      "outputs": [
        {
          "output_type": "execute_result",
          "data": {
            "text/plain": [
              "21"
            ]
          },
          "metadata": {},
          "execution_count": 4
        }
      ]
    },
    {
      "cell_type": "code",
      "source": [
        "# Question 2\n",
        "def all_itemsets(items, k):\n",
        "    \"\"\"\n",
        "    Generate all possible unique itemsets with non-repeating k items\n",
        "    from a list of unique items.\n",
        "    \"\"\"\n",
        "    def generate_itemsets(start, current_set, remaining_items):\n",
        "        if len(current_set) == k:\n",
        "            result.append(current_set[:])\n",
        "            return\n",
        "\n",
        "        for i in range(start, len(remaining_items)):\n",
        "            current_set.append(remaining_items[i])\n",
        "            generate_itemsets(i + 1, current_set, remaining_items)\n",
        "            current_set.pop()\n",
        "\n",
        "    result = []\n",
        "    generate_itemsets(0, [], items)\n",
        "    return result\n",
        "\n",
        "itemsets = all_itemsets([\"ham\", \"cheese\", \"bread\"], 2)\n",
        "itemsets"
      ],
      "metadata": {
        "colab": {
          "base_uri": "https://localhost:8080/"
        },
        "id": "pahYz61EzOZT",
        "outputId": "4ac49e61-d303-4814-e352-309b25b346b9"
      },
      "execution_count": 5,
      "outputs": [
        {
          "output_type": "execute_result",
          "data": {
            "text/plain": [
              "[['ham', 'cheese'], ['ham', 'bread'], ['cheese', 'bread']]"
            ]
          },
          "metadata": {},
          "execution_count": 5
        }
      ]
    },
    {
      "cell_type": "code",
      "source": [
        "# Question 3a\n",
        "total_records = 0\n",
        "\n",
        "for file_name in file_names:\n",
        "    with open(file_name, 'r') as file:\n",
        "        for line in file:\n",
        "            if not line.endswith(':\\n'):  # Ignore movie ID lines\n",
        "                total_records += 1\n",
        "\n",
        "print(\"Total number of movie rating records:\", total_records)"
      ],
      "metadata": {
        "id": "yljOq5Mod1Q2",
        "colab": {
          "base_uri": "https://localhost:8080/"
        },
        "outputId": "46100ac3-2d5e-4901-9891-fe82d60036c8"
      },
      "execution_count": 6,
      "outputs": [
        {
          "output_type": "stream",
          "name": "stdout",
          "text": [
            "Total number of movie rating records: 100480507\n"
          ]
        }
      ]
    },
    {
      "cell_type": "code",
      "source": [
        "# Question 3b\n",
        "usernames = set()\n",
        "\n",
        "for file_name in file_names:\n",
        "    with open(file_name, 'r') as file:\n",
        "        for line in file:\n",
        "            if not line.endswith(':\\n'):\n",
        "                customer_id, _, _ = line.split(',')\n",
        "                usernames.add(customer_id)\n",
        "\n",
        "print(\"Total number of unique users:\", len(usernames))"
      ],
      "metadata": {
        "colab": {
          "base_uri": "https://localhost:8080/"
        },
        "id": "JA6QgQjRULyA",
        "outputId": "6239fe24-b480-40d0-9788-65c3e6fed043"
      },
      "execution_count": 7,
      "outputs": [
        {
          "output_type": "stream",
          "name": "stdout",
          "text": [
            "Total number of unique users: 480189\n"
          ]
        }
      ]
    },
    {
      "cell_type": "code",
      "source": [
        "# Question 3c\n",
        "minYear = float('inf')\n",
        "maxYear = float('-inf')\n",
        "\n",
        "for file_name in file_names:\n",
        "    with open(file_name, 'r') as file:\n",
        "        for line in file:\n",
        "            if not line.endswith(':\\n'):\n",
        "                _, _, date = line.split(',')\n",
        "                year = int(date.split('-')[0])\n",
        "\n",
        "                if year < minYear:\n",
        "                    minYear = year\n",
        "                elif year > maxYear:\n",
        "                    maxYear = year\n",
        "\n",
        "print(\"The range of years that the data is valid over is:\", minYear, \"to\", maxYear)"
      ],
      "metadata": {
        "colab": {
          "base_uri": "https://localhost:8080/"
        },
        "id": "WSrU5lwmXqZp",
        "outputId": "18d9627a-87c8-4d61-a2d2-8c207becfc76"
      },
      "execution_count": 8,
      "outputs": [
        {
          "output_type": "stream",
          "name": "stdout",
          "text": [
            "The range of years that the data is valid over is: 1999 to 2005\n"
          ]
        }
      ]
    },
    {
      "cell_type": "code",
      "source": [
        "# Question 4a\n",
        "unique_titles = set()\n",
        "\n",
        "with open(\"movie_titles.csv\", encoding =\"cp1252\") as file:\n",
        "    for line in file:\n",
        "        parts = line.strip().split(',')\n",
        "        if len(parts) > 2:\n",
        "            title = parts[2]\n",
        "            unique_titles.add(title)\n",
        "\n",
        "print(\"Total number of unique movie names:\", len(unique_titles))"
      ],
      "metadata": {
        "colab": {
          "base_uri": "https://localhost:8080/"
        },
        "id": "QmkdoZHdiC8b",
        "outputId": "0afa1f9d-317c-4963-93f6-ad76d1c6f593"
      },
      "execution_count": 9,
      "outputs": [
        {
          "output_type": "stream",
          "name": "stdout",
          "text": [
            "Total number of unique movie names: 17297\n"
          ]
        }
      ]
    },
    {
      "cell_type": "code",
      "source": [
        "from collections import defaultdict\n",
        "\n",
        "# Question 4b\n",
        "count = 0\n",
        "title_counts = defaultdict(int)\n",
        "\n",
        "with open(\"movie_titles.csv\", encoding =\"cp1252\") as file:\n",
        "    for line in file:\n",
        "        parts = line.strip().split(',')\n",
        "        if len(parts) > 2:\n",
        "            title = parts[2]\n",
        "            title_counts[title] += 1\n",
        "\n",
        "four_movie_titles = sum(1 for title in title_counts if title_counts[title] == 4)\n",
        "\n",
        "print(\"Number of movie titles that refer to exactly four different movies:\",\n",
        "      four_movie_titles)"
      ],
      "metadata": {
        "colab": {
          "base_uri": "https://localhost:8080/"
        },
        "id": "Z7iWCLIGkm55",
        "outputId": "6457f919-8b6c-487d-8630-a36b364c5427"
      },
      "execution_count": 10,
      "outputs": [
        {
          "output_type": "stream",
          "name": "stdout",
          "text": [
            "Number of movie titles that refer to exactly four different movies: 7\n"
          ]
        }
      ]
    },
    {
      "cell_type": "code",
      "source": [
        "# Question 5a\n",
        "from collections import defaultdict\n",
        "\n",
        "user_ratings_count = defaultdict(int)\n",
        "user_ratings_data = defaultdict(list)\n",
        "\n",
        "for file_name in file_names:\n",
        "    with open(file_name, 'r') as file:\n",
        "        for line in file:\n",
        "            if line.endswith(':\\n'):  # Movie ID line\n",
        "                current_movie_id = line[:-2]\n",
        "            else:\n",
        "                customer_id, rating, _ = line.strip().split(',')\n",
        "\n",
        "                user_ratings_count[customer_id] += 1\n",
        "                if rating == '5':\n",
        "                    user_ratings_data[customer_id].append(current_movie_id)\n",
        "\n",
        "users_with_200_ratings = sum(1 for user in user_ratings_count if user_ratings_count[user] == 200)\n",
        "\n",
        "print(\"Number of users who rated exactly 200 movies:\", users_with_200_ratings)"
      ],
      "metadata": {
        "colab": {
          "base_uri": "https://localhost:8080/"
        },
        "id": "IgQFNhxDnJ4e",
        "outputId": "abba8122-12e5-4772-ae35-b364459c4ecb"
      },
      "execution_count": 11,
      "outputs": [
        {
          "output_type": "stream",
          "name": "stdout",
          "text": [
            "Number of users who rated exactly 200 movies: 605\n"
          ]
        }
      ]
    },
    {
      "cell_type": "code",
      "source": [
        "# Question 5b\n",
        "users_with_200_ratings = [user for user in user_ratings_count if user_ratings_count[user] == 200]\n",
        "lowest_user_id = min(users_with_200_ratings, key=int)\n",
        "\n",
        "favorite_movie_ids = user_ratings_data[lowest_user_id]\n",
        "\n",
        "movie_titles = {}\n",
        "with open(\"movie_titles.csv\", encoding =\"cp1252\") as file:\n",
        "    for line in file:\n",
        "        parts = line.strip().split(',')\n",
        "        if len(parts) > 2:\n",
        "            movie_id = parts[0]\n",
        "            title = parts[2]\n",
        "            movie_titles[movie_id] = title\n",
        "\n",
        "print(f\"Favorite movies of user {lowest_user_id}:\")\n",
        "for movie_id in favorite_movie_ids:\n",
        "    if movie_id in movie_titles:\n",
        "        print(movie_titles[movie_id])"
      ],
      "metadata": {
        "colab": {
          "base_uri": "https://localhost:8080/"
        },
        "id": "h4XunJtHt4vA",
        "outputId": "2fe3e3df-b457-49cc-d394-b312c943a762"
      },
      "execution_count": 12,
      "outputs": [
        {
          "output_type": "stream",
          "name": "stdout",
          "text": [
            "Favorite movies of user 508:\n",
            "High Fidelity\n",
            "Monty Python's The Meaning of Life: Special Edition\n",
            "American Beauty\n",
            "Roger & Me\n",
            "Eternal Sunshine of the Spotless Mind\n",
            "Being John Malkovich\n",
            "Vietnam: A Television History\n",
            "Super Size Me\n",
            "Lord of the Rings: The Fellowship of the Ring\n",
            "This Is Spinal Tap\n",
            "The Pianist\n",
            "The Silence of the Lambs\n",
            "Sideways\n",
            "Whale Rider\n",
            "Garden State\n",
            "Bowling for Columbine\n",
            "Gandhi\n",
            "Apocalypse Now Redux\n",
            "To Die For\n",
            "Monty Python's Life of Brian\n",
            "The Manchurian Candidate\n",
            "Memento\n",
            "Amelie\n",
            "Apocalypse Now\n",
            "The Usual Suspects\n",
            "Lord of the Rings: The Two Towers: Extended Edition\n",
            "The Lord of the Rings: The Fellowship of the Ring: Extended Edition\n",
            "Touching the Void\n",
            "Minority Report\n",
            "The Royal Tenenbaums\n",
            "Election\n",
            "Good Will Hunting\n",
            "L.A. Confidential\n",
            "Taxi Driver\n",
            "Lord of the Rings: The Two Towers\n",
            "Cabaret\n",
            "Adaptation\n",
            "The Accused\n",
            "Lost in Translation\n",
            "Boys Don't Cry\n",
            "To Be and To Have\n",
            "Schindler's List\n",
            "Raging Bull\n",
            "Lord of the Rings: The Return of the King\n",
            "Monty Python and the Holy Grail\n",
            "Raising Arizona\n",
            "The Shawshank Redemption: Special Edition\n",
            "Harold and Maude\n",
            "Downfall\n",
            "Lord of the Rings: The Return of the King: Extended Edition\n",
            "Monster\n",
            "Band of Brothers\n",
            "Three Kings\n",
            "Unforgiven\n",
            "Maria Full of Grace\n",
            "Days of Wine and Roses\n",
            "Shakespeare in Love\n"
          ]
        }
      ]
    }
  ],
  "metadata": {
    "colab": {
      "provenance": []
    },
    "kernelspec": {
      "display_name": "Python 3",
      "name": "python3"
    },
    "language_info": {
      "name": "python"
    }
  },
  "nbformat": 4,
  "nbformat_minor": 0
}